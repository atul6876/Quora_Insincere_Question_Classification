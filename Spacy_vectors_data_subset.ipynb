{
 "cells": [
  {
   "cell_type": "markdown",
   "metadata": {},
   "source": [
    "## Importing the necessary modules, instantiating the spacy pipeline object (large model)"
   ]
  },
  {
   "cell_type": "code",
   "execution_count": 1,
   "metadata": {},
   "outputs": [],
   "source": [
    "import numpy as np\n",
    "import pandas as pd\n",
    "import matplotlib.pyplot as plt\n",
    "import seaborn as sns\n",
    "import string\n",
    "import re\n",
    "\n",
    "import spacy\n",
    "nlp=spacy.load('en_core_web_lg', disable=['ner', 'parser', 'tagger'])\n",
    "\n",
    "from sklearn import model_selection, preprocessing, linear_model, naive_bayes, svm, metrics\n",
    "\n",
    "import warnings\n",
    "warnings.filterwarnings('ignore')"
   ]
  },
  {
   "cell_type": "code",
   "execution_count": 2,
   "metadata": {},
   "outputs": [
    {
     "data": {
      "text/html": [
       "<div>\n",
       "<style scoped>\n",
       "    .dataframe tbody tr th:only-of-type {\n",
       "        vertical-align: middle;\n",
       "    }\n",
       "\n",
       "    .dataframe tbody tr th {\n",
       "        vertical-align: top;\n",
       "    }\n",
       "\n",
       "    .dataframe thead th {\n",
       "        text-align: right;\n",
       "    }\n",
       "</style>\n",
       "<table border=\"1\" class=\"dataframe\">\n",
       "  <thead>\n",
       "    <tr style=\"text-align: right;\">\n",
       "      <th></th>\n",
       "      <th>qid</th>\n",
       "      <th>question_text</th>\n",
       "      <th>target</th>\n",
       "    </tr>\n",
       "  </thead>\n",
       "  <tbody>\n",
       "    <tr>\n",
       "      <th>0</th>\n",
       "      <td>00002165364db923c7e6</td>\n",
       "      <td>How did Quebec nationalists see their province...</td>\n",
       "      <td>0</td>\n",
       "    </tr>\n",
       "    <tr>\n",
       "      <th>1</th>\n",
       "      <td>000032939017120e6e44</td>\n",
       "      <td>Do you have an adopted dog, how would you enco...</td>\n",
       "      <td>0</td>\n",
       "    </tr>\n",
       "    <tr>\n",
       "      <th>2</th>\n",
       "      <td>0000412ca6e4628ce2cf</td>\n",
       "      <td>Why does velocity affect time? Does velocity a...</td>\n",
       "      <td>0</td>\n",
       "    </tr>\n",
       "    <tr>\n",
       "      <th>3</th>\n",
       "      <td>000042bf85aa498cd78e</td>\n",
       "      <td>How did Otto von Guericke used the Magdeburg h...</td>\n",
       "      <td>0</td>\n",
       "    </tr>\n",
       "    <tr>\n",
       "      <th>4</th>\n",
       "      <td>0000455dfa3e01eae3af</td>\n",
       "      <td>Can I convert montra helicon D to a mountain b...</td>\n",
       "      <td>0</td>\n",
       "    </tr>\n",
       "  </tbody>\n",
       "</table>\n",
       "</div>"
      ],
      "text/plain": [
       "                    qid                                      question_text  \\\n",
       "0  00002165364db923c7e6  How did Quebec nationalists see their province...   \n",
       "1  000032939017120e6e44  Do you have an adopted dog, how would you enco...   \n",
       "2  0000412ca6e4628ce2cf  Why does velocity affect time? Does velocity a...   \n",
       "3  000042bf85aa498cd78e  How did Otto von Guericke used the Magdeburg h...   \n",
       "4  0000455dfa3e01eae3af  Can I convert montra helicon D to a mountain b...   \n",
       "\n",
       "   target  \n",
       "0       0  \n",
       "1       0  \n",
       "2       0  \n",
       "3       0  \n",
       "4       0  "
      ]
     },
     "execution_count": 2,
     "metadata": {},
     "output_type": "execute_result"
    }
   ],
   "source": [
    "# Read in the training dataset\n",
    "\n",
    "data = pd.read_csv('train.csv')\n",
    "data.head(5)"
   ]
  },
  {
   "cell_type": "code",
   "execution_count": 3,
   "metadata": {},
   "outputs": [
    {
     "data": {
      "text/plain": [
       "0    1225312\n",
       "1      80810\n",
       "Name: target, dtype: int64"
      ]
     },
     "execution_count": 3,
     "metadata": {},
     "output_type": "execute_result"
    }
   ],
   "source": [
    "# Checking the distribution of sincere and insincere questions in the training data\n",
    "data.target.value_counts()"
   ]
  },
  {
   "cell_type": "markdown",
   "metadata": {},
   "source": [
    "## Oversampling minority class, taking a smaller subset of the overall training data "
   ]
  },
  {
   "cell_type": "code",
   "execution_count": 4,
   "metadata": {},
   "outputs": [],
   "source": [
    "# Taking a sample of 10,000 sincere question and 10,000 insincere questions:\n",
    "# This achieves two goals, oversampling minority class, and faster execution/training of the model\n",
    "\n",
    "sincere = data[data.target==0].sample(10000)\n",
    "insincere = data[data.target==1].sample(10000)"
   ]
  },
  {
   "cell_type": "code",
   "execution_count": 5,
   "metadata": {},
   "outputs": [
    {
     "name": "stdout",
     "output_type": "stream",
     "text": [
      "(20000, 3)\n",
      "1    10000\n",
      "0    10000\n",
      "Name: target, dtype: int64\n",
      "qid              0\n",
      "question_text    0\n",
      "target           0\n",
      "dtype: int64\n"
     ]
    },
    {
     "data": {
      "text/html": [
       "<div>\n",
       "<style scoped>\n",
       "    .dataframe tbody tr th:only-of-type {\n",
       "        vertical-align: middle;\n",
       "    }\n",
       "\n",
       "    .dataframe tbody tr th {\n",
       "        vertical-align: top;\n",
       "    }\n",
       "\n",
       "    .dataframe thead th {\n",
       "        text-align: right;\n",
       "    }\n",
       "</style>\n",
       "<table border=\"1\" class=\"dataframe\">\n",
       "  <thead>\n",
       "    <tr style=\"text-align: right;\">\n",
       "      <th></th>\n",
       "      <th>qid</th>\n",
       "      <th>question_text</th>\n",
       "      <th>target</th>\n",
       "    </tr>\n",
       "  </thead>\n",
       "  <tbody>\n",
       "    <tr>\n",
       "      <th>566286</th>\n",
       "      <td>6ef4864ef60db4da6244</td>\n",
       "      <td>Can I use a small coreless DC motor for a smal...</td>\n",
       "      <td>0</td>\n",
       "    </tr>\n",
       "    <tr>\n",
       "      <th>111513</th>\n",
       "      <td>15d339346370ac116b1c</td>\n",
       "      <td>Are pleaidians and reptilian aliens real?</td>\n",
       "      <td>0</td>\n",
       "    </tr>\n",
       "    <tr>\n",
       "      <th>403844</th>\n",
       "      <td>4f2324bdd8a3a166ede6</td>\n",
       "      <td>What is boiler draught and state its necessity?</td>\n",
       "      <td>0</td>\n",
       "    </tr>\n",
       "    <tr>\n",
       "      <th>292724</th>\n",
       "      <td>3951fd8f20403cb958eb</td>\n",
       "      <td>What is a good analysis of the book \"Economic ...</td>\n",
       "      <td>0</td>\n",
       "    </tr>\n",
       "    <tr>\n",
       "      <th>403488</th>\n",
       "      <td>4f0f4264d8dce4a073b9</td>\n",
       "      <td>What is the shortlisting criteria of Accenture...</td>\n",
       "      <td>0</td>\n",
       "    </tr>\n",
       "  </tbody>\n",
       "</table>\n",
       "</div>"
      ],
      "text/plain": [
       "                         qid  \\\n",
       "566286  6ef4864ef60db4da6244   \n",
       "111513  15d339346370ac116b1c   \n",
       "403844  4f2324bdd8a3a166ede6   \n",
       "292724  3951fd8f20403cb958eb   \n",
       "403488  4f0f4264d8dce4a073b9   \n",
       "\n",
       "                                            question_text  target  \n",
       "566286  Can I use a small coreless DC motor for a smal...       0  \n",
       "111513          Are pleaidians and reptilian aliens real?       0  \n",
       "403844    What is boiler draught and state its necessity?       0  \n",
       "292724  What is a good analysis of the book \"Economic ...       0  \n",
       "403488  What is the shortlisting criteria of Accenture...       0  "
      ]
     },
     "execution_count": 5,
     "metadata": {},
     "output_type": "execute_result"
    }
   ],
   "source": [
    "df = pd.concat((sincere, insincere), axis=0)\n",
    "print(df.shape)\n",
    "print(df.target.value_counts())\n",
    "print(df.isnull().sum())\n",
    "\n",
    "df.head()"
   ]
  },
  {
   "cell_type": "code",
   "execution_count": 6,
   "metadata": {},
   "outputs": [
    {
     "data": {
      "text/html": [
       "<div>\n",
       "<style scoped>\n",
       "    .dataframe tbody tr th:only-of-type {\n",
       "        vertical-align: middle;\n",
       "    }\n",
       "\n",
       "    .dataframe tbody tr th {\n",
       "        vertical-align: top;\n",
       "    }\n",
       "\n",
       "    .dataframe thead th {\n",
       "        text-align: right;\n",
       "    }\n",
       "</style>\n",
       "<table border=\"1\" class=\"dataframe\">\n",
       "  <thead>\n",
       "    <tr style=\"text-align: right;\">\n",
       "      <th></th>\n",
       "      <th>qid</th>\n",
       "      <th>question_text</th>\n",
       "      <th>target</th>\n",
       "    </tr>\n",
       "  </thead>\n",
       "  <tbody>\n",
       "    <tr>\n",
       "      <th>789020</th>\n",
       "      <td>9a96f0e83f5f5dcff2f6</td>\n",
       "      <td>Should I strap a board to my asshole so I don'...</td>\n",
       "      <td>1</td>\n",
       "    </tr>\n",
       "    <tr>\n",
       "      <th>7704</th>\n",
       "      <td>01806955ffe7eb0a6315</td>\n",
       "      <td>Why would any American want a socialist dictat...</td>\n",
       "      <td>1</td>\n",
       "    </tr>\n",
       "    <tr>\n",
       "      <th>1283732</th>\n",
       "      <td>fb950dc188a0b690c9e6</td>\n",
       "      <td>Why is it easier to have a mindless gossips wi...</td>\n",
       "      <td>1</td>\n",
       "    </tr>\n",
       "    <tr>\n",
       "      <th>306845</th>\n",
       "      <td>3c1a0a49a46091af7d71</td>\n",
       "      <td>Do psychopaths sexually molest their younger s...</td>\n",
       "      <td>1</td>\n",
       "    </tr>\n",
       "    <tr>\n",
       "      <th>935188</th>\n",
       "      <td>b74444829f11b0061efe</td>\n",
       "      <td>Are Bengalees more arrogrant compate to the ot...</td>\n",
       "      <td>1</td>\n",
       "    </tr>\n",
       "  </tbody>\n",
       "</table>\n",
       "</div>"
      ],
      "text/plain": [
       "                          qid  \\\n",
       "789020   9a96f0e83f5f5dcff2f6   \n",
       "7704     01806955ffe7eb0a6315   \n",
       "1283732  fb950dc188a0b690c9e6   \n",
       "306845   3c1a0a49a46091af7d71   \n",
       "935188   b74444829f11b0061efe   \n",
       "\n",
       "                                             question_text  target  \n",
       "789020   Should I strap a board to my asshole so I don'...       1  \n",
       "7704     Why would any American want a socialist dictat...       1  \n",
       "1283732  Why is it easier to have a mindless gossips wi...       1  \n",
       "306845   Do psychopaths sexually molest their younger s...       1  \n",
       "935188   Are Bengalees more arrogrant compate to the ot...       1  "
      ]
     },
     "execution_count": 6,
     "metadata": {},
     "output_type": "execute_result"
    }
   ],
   "source": [
    "# Insincere questions: \n",
    "df[df.target==1].sample(5)"
   ]
  },
  {
   "cell_type": "markdown",
   "metadata": {},
   "source": [
    "## Feature Engineering - vector representations of each question\n",
    "#### Sentence level vectors are obtained by averaging the constituent word vectors. Spacy's pipeline object does this transformation in the background and the vector can be accessed after the text is sent through the pipeline."
   ]
  },
  {
   "cell_type": "code",
   "execution_count": 7,
   "metadata": {},
   "outputs": [],
   "source": [
    "vectors=[]\n",
    "\n",
    "for line in df.question_text:\n",
    "    vectors.append(nlp(line).vector)"
   ]
  },
  {
   "cell_type": "code",
   "execution_count": 8,
   "metadata": {},
   "outputs": [],
   "source": [
    "dat = pd.DataFrame(vectors, columns = [i for i in range(1,301)])\n",
    "dat['target'] = list(df.target)"
   ]
  },
  {
   "cell_type": "code",
   "execution_count": 9,
   "metadata": {},
   "outputs": [
    {
     "data": {
      "text/plain": [
       "1    10000\n",
       "0    10000\n",
       "Name: target, dtype: int64"
      ]
     },
     "execution_count": 9,
     "metadata": {},
     "output_type": "execute_result"
    }
   ],
   "source": [
    "dat.target.value_counts()"
   ]
  },
  {
   "cell_type": "code",
   "execution_count": 10,
   "metadata": {},
   "outputs": [],
   "source": [
    "# Splitting the data into training and validation sets\n",
    "\n",
    "from sklearn.model_selection import train_test_split\n",
    "\n",
    "train_x, valid_x, train_y, valid_y = train_test_split(dat.drop('target', axis=1), dat['target'], test_size=0.25)"
   ]
  },
  {
   "cell_type": "code",
   "execution_count": 11,
   "metadata": {},
   "outputs": [],
   "source": [
    "# Function to fit & predict data, and to return the classification report \n",
    "# The metric of interest here is Recall on Insincere Questions (How many of insincere questions are actually being identified?)\n",
    "\n",
    "def train_model(classifier, train_features, train_target, valid_features):\n",
    "    classifier.fit(train_features, train_target)\n",
    "    predictions = classifier.predict(valid_features)\n",
    "    return metrics.classification_report(valid_y, predictions)    "
   ]
  },
  {
   "cell_type": "code",
   "execution_count": 12,
   "metadata": {},
   "outputs": [
    {
     "name": "stdout",
     "output_type": "stream",
     "text": [
      "(15000, 300)\n",
      "(5000, 300)\n",
      "(15000,)\n",
      "(5000,)\n",
      "\n"
     ]
    },
    {
     "data": {
      "text/plain": [
       "1    7511\n",
       "0    7489\n",
       "Name: target, dtype: int64"
      ]
     },
     "execution_count": 12,
     "metadata": {},
     "output_type": "execute_result"
    }
   ],
   "source": [
    "# Sanity Check\n",
    "\n",
    "print(train_x.shape)\n",
    "print(valid_x.shape)\n",
    "print(train_y.shape)\n",
    "print(valid_y.shape)\n",
    "print()\n",
    "train_y.value_counts()"
   ]
  },
  {
   "cell_type": "code",
   "execution_count": 13,
   "metadata": {},
   "outputs": [
    {
     "name": "stdout",
     "output_type": "stream",
     "text": [
      "SCV model Classification Report: \n",
      "               precision    recall  f1-score   support\n",
      "\n",
      "           0       0.87      0.84      0.86      2511\n",
      "           1       0.85      0.88      0.86      2489\n",
      "\n",
      "   micro avg       0.86      0.86      0.86      5000\n",
      "   macro avg       0.86      0.86      0.86      5000\n",
      "weighted avg       0.86      0.86      0.86      5000\n",
      "\n"
     ]
    }
   ],
   "source": [
    "# SVC (Support Vector Classifier) model - takes long time to train\n",
    "\n",
    "print(\"SCV model Classification Report: \\n\", train_model(svm.SVC(), train_x, train_y, valid_x))"
   ]
  },
  {
   "cell_type": "code",
   "execution_count": 14,
   "metadata": {},
   "outputs": [
    {
     "name": "stdout",
     "output_type": "stream",
     "text": [
      "Linear model Classification Report: \n",
      "               precision    recall  f1-score   support\n",
      "\n",
      "           0       0.88      0.87      0.88      2511\n",
      "           1       0.87      0.88      0.88      2489\n",
      "\n",
      "   micro avg       0.88      0.88      0.88      5000\n",
      "   macro avg       0.88      0.88      0.88      5000\n",
      "weighted avg       0.88      0.88      0.88      5000\n",
      "\n"
     ]
    }
   ],
   "source": [
    "# A simple linear model (Logistic Regression), slightly better performance than SVC, trains much faster\n",
    "\n",
    "print(\"Linear model Classification Report: \\n\", train_model(linear_model.LogisticRegression(), train_x, train_y, valid_x))"
   ]
  },
  {
   "cell_type": "code",
   "execution_count": 15,
   "metadata": {},
   "outputs": [
    {
     "name": "stdout",
     "output_type": "stream",
     "text": [
      "Random Forest Model Performance\n",
      "              precision    recall  f1-score   support\n",
      "\n",
      "           0       0.79      0.87      0.83      2511\n",
      "           1       0.85      0.76      0.81      2489\n",
      "\n",
      "   micro avg       0.82      0.82      0.82      5000\n",
      "   macro avg       0.82      0.82      0.82      5000\n",
      "weighted avg       0.82      0.82      0.82      5000\n",
      "\n"
     ]
    }
   ],
   "source": [
    "# Random Forest Classifier model, poor performance compared to previos models\n",
    "\n",
    "from sklearn import ensemble\n",
    "\n",
    "print(\"Random Forest Model Performance\")\n",
    "print(train_model(ensemble.RandomForestClassifier(), train_x, train_y, valid_x))"
   ]
  },
  {
   "cell_type": "code",
   "execution_count": 16,
   "metadata": {},
   "outputs": [
    {
     "data": {
      "text/html": [
       "<div>\n",
       "<style scoped>\n",
       "    .dataframe tbody tr th:only-of-type {\n",
       "        vertical-align: middle;\n",
       "    }\n",
       "\n",
       "    .dataframe tbody tr th {\n",
       "        vertical-align: top;\n",
       "    }\n",
       "\n",
       "    .dataframe thead th {\n",
       "        text-align: right;\n",
       "    }\n",
       "</style>\n",
       "<table border=\"1\" class=\"dataframe\">\n",
       "  <thead>\n",
       "    <tr style=\"text-align: right;\">\n",
       "      <th></th>\n",
       "      <th>qid</th>\n",
       "      <th>question_text</th>\n",
       "    </tr>\n",
       "  </thead>\n",
       "  <tbody>\n",
       "    <tr>\n",
       "      <th>0</th>\n",
       "      <td>0000163e3ea7c7a74cd7</td>\n",
       "      <td>Why do so many women become so rude and arroga...</td>\n",
       "    </tr>\n",
       "    <tr>\n",
       "      <th>1</th>\n",
       "      <td>00002bd4fb5d505b9161</td>\n",
       "      <td>When should I apply for RV college of engineer...</td>\n",
       "    </tr>\n",
       "    <tr>\n",
       "      <th>2</th>\n",
       "      <td>00007756b4a147d2b0b3</td>\n",
       "      <td>What is it really like to be a nurse practitio...</td>\n",
       "    </tr>\n",
       "    <tr>\n",
       "      <th>3</th>\n",
       "      <td>000086e4b7e1c7146103</td>\n",
       "      <td>Who are entrepreneurs?</td>\n",
       "    </tr>\n",
       "    <tr>\n",
       "      <th>4</th>\n",
       "      <td>0000c4c3fbe8785a3090</td>\n",
       "      <td>Is education really making good people nowadays?</td>\n",
       "    </tr>\n",
       "  </tbody>\n",
       "</table>\n",
       "</div>"
      ],
      "text/plain": [
       "                    qid                                      question_text\n",
       "0  0000163e3ea7c7a74cd7  Why do so many women become so rude and arroga...\n",
       "1  00002bd4fb5d505b9161  When should I apply for RV college of engineer...\n",
       "2  00007756b4a147d2b0b3  What is it really like to be a nurse practitio...\n",
       "3  000086e4b7e1c7146103                             Who are entrepreneurs?\n",
       "4  0000c4c3fbe8785a3090   Is education really making good people nowadays?"
      ]
     },
     "execution_count": 16,
     "metadata": {},
     "output_type": "execute_result"
    }
   ],
   "source": [
    "# Reading in the test set from kaggle:\n",
    "# The test dataset is not labeled as your predictions are scored on the site itself\n",
    "\n",
    "test = pd.read_csv('test.csv')\n",
    "test.head()"
   ]
  },
  {
   "cell_type": "code",
   "execution_count": 17,
   "metadata": {},
   "outputs": [],
   "source": [
    "# We'll have to transform the text data into sentence level vecor representations for our analysis:\n",
    "\n",
    "vecs = []\n",
    "\n",
    "for line in test.question_text:\n",
    "    vecs.append(nlp(line).vector)"
   ]
  },
  {
   "cell_type": "code",
   "execution_count": 18,
   "metadata": {},
   "outputs": [
    {
     "data": {
      "text/html": [
       "<div>\n",
       "<style scoped>\n",
       "    .dataframe tbody tr th:only-of-type {\n",
       "        vertical-align: middle;\n",
       "    }\n",
       "\n",
       "    .dataframe tbody tr th {\n",
       "        vertical-align: top;\n",
       "    }\n",
       "\n",
       "    .dataframe thead th {\n",
       "        text-align: right;\n",
       "    }\n",
       "</style>\n",
       "<table border=\"1\" class=\"dataframe\">\n",
       "  <thead>\n",
       "    <tr style=\"text-align: right;\">\n",
       "      <th></th>\n",
       "      <th>1</th>\n",
       "      <th>2</th>\n",
       "      <th>3</th>\n",
       "      <th>4</th>\n",
       "      <th>5</th>\n",
       "      <th>6</th>\n",
       "      <th>7</th>\n",
       "      <th>8</th>\n",
       "      <th>9</th>\n",
       "      <th>10</th>\n",
       "      <th>...</th>\n",
       "      <th>291</th>\n",
       "      <th>292</th>\n",
       "      <th>293</th>\n",
       "      <th>294</th>\n",
       "      <th>295</th>\n",
       "      <th>296</th>\n",
       "      <th>297</th>\n",
       "      <th>298</th>\n",
       "      <th>299</th>\n",
       "      <th>300</th>\n",
       "    </tr>\n",
       "  </thead>\n",
       "  <tbody>\n",
       "    <tr>\n",
       "      <th>0</th>\n",
       "      <td>-0.180312</td>\n",
       "      <td>0.158483</td>\n",
       "      <td>-0.123888</td>\n",
       "      <td>-0.053095</td>\n",
       "      <td>0.060369</td>\n",
       "      <td>0.086867</td>\n",
       "      <td>0.145916</td>\n",
       "      <td>-0.085159</td>\n",
       "      <td>-0.049321</td>\n",
       "      <td>2.479782</td>\n",
       "      <td>...</td>\n",
       "      <td>-0.330796</td>\n",
       "      <td>0.021171</td>\n",
       "      <td>-0.021290</td>\n",
       "      <td>-0.137582</td>\n",
       "      <td>0.116073</td>\n",
       "      <td>0.222279</td>\n",
       "      <td>-0.011756</td>\n",
       "      <td>-0.070077</td>\n",
       "      <td>0.079446</td>\n",
       "      <td>0.012719</td>\n",
       "    </tr>\n",
       "    <tr>\n",
       "      <th>1</th>\n",
       "      <td>0.018303</td>\n",
       "      <td>0.129046</td>\n",
       "      <td>-0.141545</td>\n",
       "      <td>-0.165447</td>\n",
       "      <td>0.054936</td>\n",
       "      <td>-0.045345</td>\n",
       "      <td>0.058864</td>\n",
       "      <td>-0.074702</td>\n",
       "      <td>0.026421</td>\n",
       "      <td>2.047348</td>\n",
       "      <td>...</td>\n",
       "      <td>-0.100581</td>\n",
       "      <td>0.005751</td>\n",
       "      <td>-0.007119</td>\n",
       "      <td>-0.153016</td>\n",
       "      <td>0.078141</td>\n",
       "      <td>-0.048296</td>\n",
       "      <td>-0.090879</td>\n",
       "      <td>0.054621</td>\n",
       "      <td>0.019079</td>\n",
       "      <td>0.135970</td>\n",
       "    </tr>\n",
       "    <tr>\n",
       "      <th>2</th>\n",
       "      <td>0.044226</td>\n",
       "      <td>0.155399</td>\n",
       "      <td>-0.202870</td>\n",
       "      <td>0.038087</td>\n",
       "      <td>0.168708</td>\n",
       "      <td>-0.174667</td>\n",
       "      <td>-0.036280</td>\n",
       "      <td>-0.289326</td>\n",
       "      <td>-0.063747</td>\n",
       "      <td>2.461891</td>\n",
       "      <td>...</td>\n",
       "      <td>0.064525</td>\n",
       "      <td>0.040552</td>\n",
       "      <td>-0.019750</td>\n",
       "      <td>-0.076734</td>\n",
       "      <td>0.157764</td>\n",
       "      <td>0.007358</td>\n",
       "      <td>-0.097305</td>\n",
       "      <td>-0.068187</td>\n",
       "      <td>0.159205</td>\n",
       "      <td>0.140456</td>\n",
       "    </tr>\n",
       "    <tr>\n",
       "      <th>3</th>\n",
       "      <td>-0.003719</td>\n",
       "      <td>0.181323</td>\n",
       "      <td>-0.100883</td>\n",
       "      <td>-0.312070</td>\n",
       "      <td>0.103688</td>\n",
       "      <td>-0.128330</td>\n",
       "      <td>0.408130</td>\n",
       "      <td>-0.157331</td>\n",
       "      <td>0.188684</td>\n",
       "      <td>2.619975</td>\n",
       "      <td>...</td>\n",
       "      <td>-0.412897</td>\n",
       "      <td>-0.087993</td>\n",
       "      <td>0.005600</td>\n",
       "      <td>-0.153037</td>\n",
       "      <td>0.140078</td>\n",
       "      <td>0.122843</td>\n",
       "      <td>-0.051647</td>\n",
       "      <td>-0.163364</td>\n",
       "      <td>0.180401</td>\n",
       "      <td>-0.111823</td>\n",
       "    </tr>\n",
       "    <tr>\n",
       "      <th>4</th>\n",
       "      <td>-0.241352</td>\n",
       "      <td>0.238039</td>\n",
       "      <td>-0.118830</td>\n",
       "      <td>-0.215043</td>\n",
       "      <td>0.084284</td>\n",
       "      <td>-0.032048</td>\n",
       "      <td>0.148538</td>\n",
       "      <td>-0.276516</td>\n",
       "      <td>-0.002604</td>\n",
       "      <td>2.493613</td>\n",
       "      <td>...</td>\n",
       "      <td>-0.236590</td>\n",
       "      <td>-0.084084</td>\n",
       "      <td>-0.136210</td>\n",
       "      <td>-0.119996</td>\n",
       "      <td>0.203750</td>\n",
       "      <td>0.210730</td>\n",
       "      <td>-0.066195</td>\n",
       "      <td>-0.169718</td>\n",
       "      <td>-0.012377</td>\n",
       "      <td>0.209562</td>\n",
       "    </tr>\n",
       "  </tbody>\n",
       "</table>\n",
       "<p>5 rows × 300 columns</p>\n",
       "</div>"
      ],
      "text/plain": [
       "        1         2         3         4         5         6         7    \\\n",
       "0 -0.180312  0.158483 -0.123888 -0.053095  0.060369  0.086867  0.145916   \n",
       "1  0.018303  0.129046 -0.141545 -0.165447  0.054936 -0.045345  0.058864   \n",
       "2  0.044226  0.155399 -0.202870  0.038087  0.168708 -0.174667 -0.036280   \n",
       "3 -0.003719  0.181323 -0.100883 -0.312070  0.103688 -0.128330  0.408130   \n",
       "4 -0.241352  0.238039 -0.118830 -0.215043  0.084284 -0.032048  0.148538   \n",
       "\n",
       "        8         9         10   ...       291       292       293       294  \\\n",
       "0 -0.085159 -0.049321  2.479782  ... -0.330796  0.021171 -0.021290 -0.137582   \n",
       "1 -0.074702  0.026421  2.047348  ... -0.100581  0.005751 -0.007119 -0.153016   \n",
       "2 -0.289326 -0.063747  2.461891  ...  0.064525  0.040552 -0.019750 -0.076734   \n",
       "3 -0.157331  0.188684  2.619975  ... -0.412897 -0.087993  0.005600 -0.153037   \n",
       "4 -0.276516 -0.002604  2.493613  ... -0.236590 -0.084084 -0.136210 -0.119996   \n",
       "\n",
       "        295       296       297       298       299       300  \n",
       "0  0.116073  0.222279 -0.011756 -0.070077  0.079446  0.012719  \n",
       "1  0.078141 -0.048296 -0.090879  0.054621  0.019079  0.135970  \n",
       "2  0.157764  0.007358 -0.097305 -0.068187  0.159205  0.140456  \n",
       "3  0.140078  0.122843 -0.051647 -0.163364  0.180401 -0.111823  \n",
       "4  0.203750  0.210730 -0.066195 -0.169718 -0.012377  0.209562  \n",
       "\n",
       "[5 rows x 300 columns]"
      ]
     },
     "execution_count": 18,
     "metadata": {},
     "output_type": "execute_result"
    }
   ],
   "source": [
    "dat_test = pd.DataFrame(vecs, columns=[i for i in range(1,301)])\n",
    "dat_test.head()"
   ]
  },
  {
   "cell_type": "code",
   "execution_count": 19,
   "metadata": {},
   "outputs": [
    {
     "data": {
      "text/plain": [
       "array([1, 0, 0, ..., 0, 0, 0], dtype=int64)"
      ]
     },
     "execution_count": 19,
     "metadata": {},
     "output_type": "execute_result"
    }
   ],
   "source": [
    "# Getting the predictions on the test set\n",
    "# Given this was a kernel only competition, we can't score the prediction here, bummer!!\n",
    "\n",
    "clf = linear_model.LogisticRegression()\n",
    "clf.fit(train_x, train_y)\n",
    "pred_test = clf.predict(dat_test)\n",
    "pred_test"
   ]
  },
  {
   "cell_type": "code",
   "execution_count": null,
   "metadata": {},
   "outputs": [],
   "source": []
  }
 ],
 "metadata": {
  "kernelspec": {
   "display_name": "Python 3",
   "language": "python",
   "name": "python3"
  },
  "language_info": {
   "codemirror_mode": {
    "name": "ipython",
    "version": 3
   },
   "file_extension": ".py",
   "mimetype": "text/x-python",
   "name": "python",
   "nbconvert_exporter": "python",
   "pygments_lexer": "ipython3",
   "version": "3.7.3"
  }
 },
 "nbformat": 4,
 "nbformat_minor": 2
}
