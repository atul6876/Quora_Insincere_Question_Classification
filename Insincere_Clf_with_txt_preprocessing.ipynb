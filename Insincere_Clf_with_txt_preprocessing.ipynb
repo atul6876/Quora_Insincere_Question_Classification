{
 "cells": [
  {
   "cell_type": "markdown",
   "metadata": {},
   "source": [
    "### Vectorizing questions after basic pre-processing and dropping stop-words. \n",
    "#### While we lose some information, our sentence vectors are not \"polluted\" by words that do not distinguish one sentence from the other, as stop words are words like: is, the, are, as...and so on. "
   ]
  },
  {
   "cell_type": "code",
   "execution_count": 1,
   "metadata": {},
   "outputs": [],
   "source": [
    "import numpy as np\n",
    "import pandas as pd\n",
    "import matplotlib.pyplot as plt\n",
    "import seaborn as sns\n",
    "import string\n",
    "import re\n",
    "\n",
    "import spacy\n",
    "nlp=spacy.load('en_core_web_lg', disable=['ner', 'parser', 'tagger'])\n",
    "\n",
    "from sklearn import model_selection, preprocessing, linear_model, naive_bayes, svm, metrics\n",
    "\n",
    "import warnings\n",
    "warnings.filterwarnings('ignore')"
   ]
  },
  {
   "cell_type": "code",
   "execution_count": 2,
   "metadata": {},
   "outputs": [
    {
     "data": {
      "text/html": [
       "<div>\n",
       "<style scoped>\n",
       "    .dataframe tbody tr th:only-of-type {\n",
       "        vertical-align: middle;\n",
       "    }\n",
       "\n",
       "    .dataframe tbody tr th {\n",
       "        vertical-align: top;\n",
       "    }\n",
       "\n",
       "    .dataframe thead th {\n",
       "        text-align: right;\n",
       "    }\n",
       "</style>\n",
       "<table border=\"1\" class=\"dataframe\">\n",
       "  <thead>\n",
       "    <tr style=\"text-align: right;\">\n",
       "      <th></th>\n",
       "      <th>qid</th>\n",
       "      <th>question_text</th>\n",
       "      <th>target</th>\n",
       "    </tr>\n",
       "  </thead>\n",
       "  <tbody>\n",
       "    <tr>\n",
       "      <th>0</th>\n",
       "      <td>00002165364db923c7e6</td>\n",
       "      <td>How did Quebec nationalists see their province...</td>\n",
       "      <td>0</td>\n",
       "    </tr>\n",
       "    <tr>\n",
       "      <th>1</th>\n",
       "      <td>000032939017120e6e44</td>\n",
       "      <td>Do you have an adopted dog, how would you enco...</td>\n",
       "      <td>0</td>\n",
       "    </tr>\n",
       "    <tr>\n",
       "      <th>2</th>\n",
       "      <td>0000412ca6e4628ce2cf</td>\n",
       "      <td>Why does velocity affect time? Does velocity a...</td>\n",
       "      <td>0</td>\n",
       "    </tr>\n",
       "    <tr>\n",
       "      <th>3</th>\n",
       "      <td>000042bf85aa498cd78e</td>\n",
       "      <td>How did Otto von Guericke used the Magdeburg h...</td>\n",
       "      <td>0</td>\n",
       "    </tr>\n",
       "    <tr>\n",
       "      <th>4</th>\n",
       "      <td>0000455dfa3e01eae3af</td>\n",
       "      <td>Can I convert montra helicon D to a mountain b...</td>\n",
       "      <td>0</td>\n",
       "    </tr>\n",
       "  </tbody>\n",
       "</table>\n",
       "</div>"
      ],
      "text/plain": [
       "                    qid                                      question_text  \\\n",
       "0  00002165364db923c7e6  How did Quebec nationalists see their province...   \n",
       "1  000032939017120e6e44  Do you have an adopted dog, how would you enco...   \n",
       "2  0000412ca6e4628ce2cf  Why does velocity affect time? Does velocity a...   \n",
       "3  000042bf85aa498cd78e  How did Otto von Guericke used the Magdeburg h...   \n",
       "4  0000455dfa3e01eae3af  Can I convert montra helicon D to a mountain b...   \n",
       "\n",
       "   target  \n",
       "0       0  \n",
       "1       0  \n",
       "2       0  \n",
       "3       0  \n",
       "4       0  "
      ]
     },
     "execution_count": 2,
     "metadata": {},
     "output_type": "execute_result"
    }
   ],
   "source": [
    "# Read in the training dataset\n",
    "\n",
    "data = pd.read_csv('train.csv')\n",
    "data.head(5)"
   ]
  },
  {
   "cell_type": "code",
   "execution_count": 3,
   "metadata": {},
   "outputs": [
    {
     "data": {
      "text/plain": [
       "0    1225312\n",
       "1      80810\n",
       "Name: target, dtype: int64"
      ]
     },
     "execution_count": 3,
     "metadata": {},
     "output_type": "execute_result"
    }
   ],
   "source": [
    "# Checking the distribution of sincere and insincere questions in the training data\n",
    "data.target.value_counts()"
   ]
  },
  {
   "cell_type": "markdown",
   "metadata": {},
   "source": [
    "### Taking samples of equal size for sincere and insincere questions for training our model  "
   ]
  },
  {
   "cell_type": "code",
   "execution_count": 4,
   "metadata": {},
   "outputs": [],
   "source": [
    "# Taking a sample of 10,000 sincere question and 10,000 insincere questions:\n",
    "# This achieves two goals, oversampling minority class, and faster execution/training of the model\n",
    "\n",
    "sincere = data[data.target==0].sample(5000)\n",
    "insincere = data[data.target==1].sample(5000)"
   ]
  },
  {
   "cell_type": "code",
   "execution_count": 5,
   "metadata": {},
   "outputs": [
    {
     "name": "stdout",
     "output_type": "stream",
     "text": [
      "(10000, 3)\n",
      "1    5000\n",
      "0    5000\n",
      "Name: target, dtype: int64\n",
      "qid              0\n",
      "question_text    0\n",
      "target           0\n",
      "dtype: int64\n"
     ]
    },
    {
     "data": {
      "text/html": [
       "<div>\n",
       "<style scoped>\n",
       "    .dataframe tbody tr th:only-of-type {\n",
       "        vertical-align: middle;\n",
       "    }\n",
       "\n",
       "    .dataframe tbody tr th {\n",
       "        vertical-align: top;\n",
       "    }\n",
       "\n",
       "    .dataframe thead th {\n",
       "        text-align: right;\n",
       "    }\n",
       "</style>\n",
       "<table border=\"1\" class=\"dataframe\">\n",
       "  <thead>\n",
       "    <tr style=\"text-align: right;\">\n",
       "      <th></th>\n",
       "      <th>qid</th>\n",
       "      <th>question_text</th>\n",
       "      <th>target</th>\n",
       "    </tr>\n",
       "  </thead>\n",
       "  <tbody>\n",
       "    <tr>\n",
       "      <th>1127099</th>\n",
       "      <td>dce0c533708a17ef8486</td>\n",
       "      <td>How do I invest for 1 lac annual income after ...</td>\n",
       "      <td>0</td>\n",
       "    </tr>\n",
       "    <tr>\n",
       "      <th>984570</th>\n",
       "      <td>c0e71d985fb3c5e35b12</td>\n",
       "      <td>What should be the good name of workshop for e...</td>\n",
       "      <td>0</td>\n",
       "    </tr>\n",
       "    <tr>\n",
       "      <th>80267</th>\n",
       "      <td>0fb7e03955c88338e183</td>\n",
       "      <td>Is it possible to get marks of non qualified s...</td>\n",
       "      <td>0</td>\n",
       "    </tr>\n",
       "    <tr>\n",
       "      <th>639706</th>\n",
       "      <td>7d4cacbb21d03aab7f76</td>\n",
       "      <td>What can be my rank in Neet 2017 if I get 590 ...</td>\n",
       "      <td>0</td>\n",
       "    </tr>\n",
       "    <tr>\n",
       "      <th>789619</th>\n",
       "      <td>9ab545ccab2857c1021e</td>\n",
       "      <td>There is a kid in my class that is super extro...</td>\n",
       "      <td>0</td>\n",
       "    </tr>\n",
       "  </tbody>\n",
       "</table>\n",
       "</div>"
      ],
      "text/plain": [
       "                          qid  \\\n",
       "1127099  dce0c533708a17ef8486   \n",
       "984570   c0e71d985fb3c5e35b12   \n",
       "80267    0fb7e03955c88338e183   \n",
       "639706   7d4cacbb21d03aab7f76   \n",
       "789619   9ab545ccab2857c1021e   \n",
       "\n",
       "                                             question_text  target  \n",
       "1127099  How do I invest for 1 lac annual income after ...       0  \n",
       "984570   What should be the good name of workshop for e...       0  \n",
       "80267    Is it possible to get marks of non qualified s...       0  \n",
       "639706   What can be my rank in Neet 2017 if I get 590 ...       0  \n",
       "789619   There is a kid in my class that is super extro...       0  "
      ]
     },
     "execution_count": 5,
     "metadata": {},
     "output_type": "execute_result"
    }
   ],
   "source": [
    "# Combining both sincere and insincere questions into a dataframe, we'll train and test our model on this dataframe object.\n",
    "\n",
    "df = pd.concat((sincere, insincere), axis=0)\n",
    "print(df.shape)\n",
    "print(df.target.value_counts())\n",
    "print(df.isnull().sum())\n",
    "\n",
    "df.head()"
   ]
  },
  {
   "cell_type": "code",
   "execution_count": 6,
   "metadata": {},
   "outputs": [
    {
     "data": {
      "text/html": [
       "<div>\n",
       "<style scoped>\n",
       "    .dataframe tbody tr th:only-of-type {\n",
       "        vertical-align: middle;\n",
       "    }\n",
       "\n",
       "    .dataframe tbody tr th {\n",
       "        vertical-align: top;\n",
       "    }\n",
       "\n",
       "    .dataframe thead th {\n",
       "        text-align: right;\n",
       "    }\n",
       "</style>\n",
       "<table border=\"1\" class=\"dataframe\">\n",
       "  <thead>\n",
       "    <tr style=\"text-align: right;\">\n",
       "      <th></th>\n",
       "      <th>qid</th>\n",
       "      <th>question_text</th>\n",
       "      <th>target</th>\n",
       "    </tr>\n",
       "  </thead>\n",
       "  <tbody>\n",
       "    <tr>\n",
       "      <th>797362</th>\n",
       "      <td>9c40f092eedf6299bfac</td>\n",
       "      <td>Why is Russia always siding with the evil dict...</td>\n",
       "      <td>1</td>\n",
       "    </tr>\n",
       "    <tr>\n",
       "      <th>401797</th>\n",
       "      <td>4eb8acad5f0151797184</td>\n",
       "      <td>Are girls ready to accept anything to get fame?</td>\n",
       "      <td>1</td>\n",
       "    </tr>\n",
       "    <tr>\n",
       "      <th>197231</th>\n",
       "      <td>268eae52eeec93c6d305</td>\n",
       "      <td>Do conservatives realise that it's 2017 and no...</td>\n",
       "      <td>1</td>\n",
       "    </tr>\n",
       "    <tr>\n",
       "      <th>949732</th>\n",
       "      <td>ba1a53845414408c1a8f</td>\n",
       "      <td>Did Narendra Modi do 9/11?</td>\n",
       "      <td>1</td>\n",
       "    </tr>\n",
       "    <tr>\n",
       "      <th>281834</th>\n",
       "      <td>372b221f760132c16423</td>\n",
       "      <td>Why isn’t more being done to save the guinea w...</td>\n",
       "      <td>1</td>\n",
       "    </tr>\n",
       "  </tbody>\n",
       "</table>\n",
       "</div>"
      ],
      "text/plain": [
       "                         qid  \\\n",
       "797362  9c40f092eedf6299bfac   \n",
       "401797  4eb8acad5f0151797184   \n",
       "197231  268eae52eeec93c6d305   \n",
       "949732  ba1a53845414408c1a8f   \n",
       "281834  372b221f760132c16423   \n",
       "\n",
       "                                            question_text  target  \n",
       "797362  Why is Russia always siding with the evil dict...       1  \n",
       "401797    Are girls ready to accept anything to get fame?       1  \n",
       "197231  Do conservatives realise that it's 2017 and no...       1  \n",
       "949732                         Did Narendra Modi do 9/11?       1  \n",
       "281834  Why isn’t more being done to save the guinea w...       1  "
      ]
     },
     "execution_count": 6,
     "metadata": {},
     "output_type": "execute_result"
    }
   ],
   "source": [
    "# Insincere questions: \n",
    "df[df.target==1].sample(5)"
   ]
  },
  {
   "cell_type": "code",
   "execution_count": 7,
   "metadata": {},
   "outputs": [],
   "source": [
    "# Stopword removal: I'm using the stopword list from NLTK libraries' corpus\n",
    "\n",
    "import nltk\n",
    "from nltk.corpus import stopwords\n",
    "\n",
    "stop = stopwords.words('english')"
   ]
  },
  {
   "cell_type": "code",
   "execution_count": 8,
   "metadata": {},
   "outputs": [],
   "source": [
    "# Defining a function to preprocess text (lower-casing, dropping punctuations, digits and extra white-spaces)\n",
    "# While punctuations and digits do add a lot of meaning, when we are vectorizing whole sentences, we want only those words\n",
    "# that distinguish these sentences from others. In that context, adding these to the whole sentence don't make much sense.\n",
    "\n",
    "def preprocess(text):\n",
    "    text = text.lower()\n",
    "    regex = re.compile(r'[%s%s]' % (string.punctuation, string.digits))\n",
    "    text = regex.sub(' ', text) \n",
    "    regex = re.compile(r'[\\s+]')\n",
    "    text = regex.sub(' ', text)\n",
    "    text = ' '.join([w for w in text.split()]) \n",
    "    return text"
   ]
  },
  {
   "cell_type": "code",
   "execution_count": 9,
   "metadata": {},
   "outputs": [
    {
     "data": {
      "text/plain": [
       "(10000, 3)"
      ]
     },
     "execution_count": 9,
     "metadata": {},
     "output_type": "execute_result"
    }
   ],
   "source": [
    "df.shape"
   ]
  },
  {
   "cell_type": "code",
   "execution_count": 10,
   "metadata": {},
   "outputs": [],
   "source": [
    "txt_pp = [preprocess(text) for text in df.question_text]"
   ]
  },
  {
   "cell_type": "code",
   "execution_count": 11,
   "metadata": {},
   "outputs": [
    {
     "data": {
      "text/plain": [
       "['how do i invest for lac annual income after years',\n",
       " 'what should be the good name of workshop for embedded systems',\n",
       " 'is it possible to get marks of non qualified students for any upsc exam held in',\n",
       " 'what can be my rank in neet if i get or marks',\n",
       " 'there is a kid in my class that is super extroverted and every time he takes a whole minutes to answer a question i stare at him amazed is that weird i m am an introvert']"
      ]
     },
     "execution_count": 11,
     "metadata": {},
     "output_type": "execute_result"
    }
   ],
   "source": [
    "txt_pp[:5]"
   ]
  },
  {
   "cell_type": "code",
   "execution_count": 12,
   "metadata": {},
   "outputs": [],
   "source": [
    "sw_rem= []\n",
    "for i in txt_pp:\n",
    "    sw_rem.append(\" \".join([word for word in i.split() if word not in stop]))"
   ]
  },
  {
   "cell_type": "code",
   "execution_count": 13,
   "metadata": {},
   "outputs": [
    {
     "data": {
      "text/plain": [
       "['invest lac annual income years',\n",
       " 'good name workshop embedded systems',\n",
       " 'possible get marks non qualified students upsc exam held',\n",
       " 'rank neet get marks',\n",
       " 'kid class super extroverted every time takes whole minutes answer question stare amazed weird introvert']"
      ]
     },
     "execution_count": 13,
     "metadata": {},
     "output_type": "execute_result"
    }
   ],
   "source": [
    "sw_rem[:5]"
   ]
  },
  {
   "cell_type": "code",
   "execution_count": 14,
   "metadata": {},
   "outputs": [],
   "source": [
    "df['question_text'] = sw_rem"
   ]
  },
  {
   "cell_type": "code",
   "execution_count": 15,
   "metadata": {},
   "outputs": [
    {
     "data": {
      "text/plain": [
       "1127099                       invest lac annual income years\n",
       "984570                   good name workshop embedded systems\n",
       "80267      possible get marks non qualified students upsc...\n",
       "639706                                   rank neet get marks\n",
       "789619     kid class super extroverted every time takes w...\n",
       "Name: question_text, dtype: object"
      ]
     },
     "execution_count": 15,
     "metadata": {},
     "output_type": "execute_result"
    }
   ],
   "source": [
    "df['question_text'].head(5)"
   ]
  },
  {
   "cell_type": "code",
   "execution_count": 16,
   "metadata": {},
   "outputs": [],
   "source": [
    "vectors=[]\n",
    "\n",
    "for line in df.question_text:\n",
    "    vectors.append(nlp(line).vector)"
   ]
  },
  {
   "cell_type": "code",
   "execution_count": 17,
   "metadata": {},
   "outputs": [],
   "source": [
    "dat = pd.DataFrame(vectors, columns = [i for i in range(1,301)])\n",
    "dat['target'] = list(df.target)"
   ]
  },
  {
   "cell_type": "code",
   "execution_count": 18,
   "metadata": {},
   "outputs": [
    {
     "data": {
      "text/plain": [
       "1    5000\n",
       "0    5000\n",
       "Name: target, dtype: int64"
      ]
     },
     "execution_count": 18,
     "metadata": {},
     "output_type": "execute_result"
    }
   ],
   "source": [
    "dat.target.value_counts()"
   ]
  },
  {
   "cell_type": "code",
   "execution_count": 19,
   "metadata": {},
   "outputs": [],
   "source": [
    "# Splitting the data into training and validation sets\n",
    "\n",
    "from sklearn.model_selection import train_test_split\n",
    "\n",
    "train_x, valid_x, train_y, valid_y = train_test_split(dat.drop('target', axis=1), dat['target'], test_size=0.25)"
   ]
  },
  {
   "cell_type": "code",
   "execution_count": 20,
   "metadata": {},
   "outputs": [],
   "source": [
    "# Function to fit & predict data, and to return the classification report \n",
    "# The metric of interest here is Recall on Insincere Questions (How many of insincere questions are actually being identified?)\n",
    "\n",
    "def train_model(classifier, train_features, train_target, valid_features):\n",
    "    classifier.fit(train_features, train_target)\n",
    "    predictions = classifier.predict(valid_features)\n",
    "    return metrics.classification_report(valid_y, predictions)    "
   ]
  },
  {
   "cell_type": "code",
   "execution_count": 21,
   "metadata": {},
   "outputs": [
    {
     "name": "stdout",
     "output_type": "stream",
     "text": [
      "(7500, 300)\n",
      "(2500, 300)\n",
      "(7500,)\n",
      "(2500,)\n",
      "\n"
     ]
    },
    {
     "data": {
      "text/plain": [
       "1    3776\n",
       "0    3724\n",
       "Name: target, dtype: int64"
      ]
     },
     "execution_count": 21,
     "metadata": {},
     "output_type": "execute_result"
    }
   ],
   "source": [
    "# Sanity Check\n",
    "\n",
    "print(train_x.shape)\n",
    "print(valid_x.shape)\n",
    "print(train_y.shape)\n",
    "print(valid_y.shape)\n",
    "print()\n",
    "train_y.value_counts()"
   ]
  },
  {
   "cell_type": "code",
   "execution_count": 22,
   "metadata": {},
   "outputs": [
    {
     "name": "stdout",
     "output_type": "stream",
     "text": [
      "Linear model Classification Report: \n",
      "               precision    recall  f1-score   support\n",
      "\n",
      "           0       0.84      0.81      0.82      1276\n",
      "           1       0.81      0.85      0.83      1224\n",
      "\n",
      "   micro avg       0.83      0.83      0.83      2500\n",
      "   macro avg       0.83      0.83      0.83      2500\n",
      "weighted avg       0.83      0.83      0.83      2500\n",
      "\n"
     ]
    }
   ],
   "source": [
    "# A simple linear model (Logistic Regression), slightly better performance than SVC, trains much faster\n",
    "\n",
    "print(\"Linear model Classification Report: \\n\", train_model(linear_model.LogisticRegression(), train_x, train_y, valid_x))"
   ]
  },
  {
   "cell_type": "code",
   "execution_count": 23,
   "metadata": {},
   "outputs": [
    {
     "name": "stdout",
     "output_type": "stream",
     "text": [
      "SCV model Classification Report: \n",
      "               precision    recall  f1-score   support\n",
      "\n",
      "           0       0.88      0.80      0.84      1276\n",
      "           1       0.81      0.88      0.85      1224\n",
      "\n",
      "   micro avg       0.84      0.84      0.84      2500\n",
      "   macro avg       0.84      0.84      0.84      2500\n",
      "weighted avg       0.85      0.84      0.84      2500\n",
      "\n"
     ]
    }
   ],
   "source": [
    "# SVC (Support Vector Classifier) model - takes long time to train\n",
    "# We see the SVC model is doing better than Linear model \n",
    "# The models here are doing better than models trained on unprocessed vectorized texts\n",
    "\n",
    "print(\"SCV model Classification Report: \\n\", train_model(svm.SVC(), train_x, train_y, valid_x))"
   ]
  },
  {
   "cell_type": "code",
   "execution_count": null,
   "metadata": {},
   "outputs": [],
   "source": []
  }
 ],
 "metadata": {
  "kernelspec": {
   "display_name": "Python 3",
   "language": "python",
   "name": "python3"
  },
  "language_info": {
   "codemirror_mode": {
    "name": "ipython",
    "version": 3
   },
   "file_extension": ".py",
   "mimetype": "text/x-python",
   "name": "python",
   "nbconvert_exporter": "python",
   "pygments_lexer": "ipython3",
   "version": "3.7.3"
  }
 },
 "nbformat": 4,
 "nbformat_minor": 2
}
